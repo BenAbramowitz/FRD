{
 "cells": [
  {
   "cell_type": "code",
   "execution_count": null,
   "id": "4fff7f29",
   "metadata": {},
   "outputs": [],
   "source": [
    "import numpy as np\n",
    "\n",
    "import nbimporter\n",
    "import m01_profiles as profiles\n",
    "import m02_elections as elections\n",
    "import m03_weighting as weighting\n",
    "import m04_issue_voting as voting"
   ]
  },
  {
   "cell_type": "markdown",
   "id": "93c055c1",
   "metadata": {},
   "source": [
    "# TO DO\n",
    "- Compute agreements for all election rules given and save data to file\n",
    "- Compute means and variances of the agreements for every rule\n",
    "- For each independent variable, create a plot comparing the agreement of each rule under RD\n",
    "- Do the same for FRD for each delegation type"
   ]
  },
  {
   "cell_type": "code",
   "execution_count": null,
   "id": "d0fe2338",
   "metadata": {},
   "outputs": [],
   "source": [
    "def agreements_rd(n_iter, n_voters, n_cands, n_issues, voters_p, cands_p, rules_list):\n",
    "    agreements = {rule:[] for rule in rules_list}\n",
    "    \n",
    "    for i in range(n_iter):\n",
    "        v_profile, c_profile, vc_distances = profiles.generate_instance(n_voters, \n",
    "                                                                        n_cands, \n",
    "                                                                        n_issues, \n",
    "                                                                        voters_p, \n",
    "                                                                        cands_p, \n",
    "                                                                        seed=i)\n",
    "        #print(f'v_profile: {v_profile}')\n",
    "        #print(f'c_profile: {c_profile}')\n",
    "        #print(f'vc_distances: {vc_distances}')\n",
    "        voter_majority_outcomes = voting.majority(v_profile)\n",
    "#         print(f'voter majority outcomes: {voter_majority_outcomes}')\n",
    "\n",
    "        derivatives = profiles.all_issues_profile_derivatives(v_profile, c_profile, threshold)\n",
    "\n",
    "        for rule in rules_list:\n",
    "            if rule == 'max_approval':\n",
    "                election_profile = derivatives['threshold_approval_profile']\n",
    "                rep_ids, _ = elections.max_approval(election_profile, n_reps, seed=i)\n",
    "            elif rule == 'rav':\n",
    "                election_profile = derivatives['threshold_approval_profile']\n",
    "                rep_ids = elections.repeated_alternative_vote(election_profile, n_reps) #no seed, old implementation\n",
    "            elif rule == 'borda':\n",
    "                election_profile = derivatives['ordermaps_profile']\n",
    "                rep_ids, _ = elections.borda(election_profile, n_reps, seed=i)\n",
    "            elif rule == 'plurality':\n",
    "                election_profile = derivatives['ordermaps_profile']\n",
    "                rep_ids, _ = elections.plurality(election_profile, n_reps, seed=i)\n",
    "#             elif rule == 'stv':\n",
    "#                 election_profile = derivatives['orders_profile']\n",
    "#                 rep_ids = elections.single_transferable_vote(election_profile, n_reps, seed=i)\n",
    "            elif rule == 'max_score':\n",
    "                election_profile = derivatives['scores_profile']\n",
    "                rep_ids, _ = elections.max_score(election_profile, n_reps, seed=i)\n",
    "            else:\n",
    "                raise ValueError(f'Rule {rule} not implemented yet in this experiment')\n",
    "                \n",
    "            #print(f'Using rule: {rule}')\n",
    "\n",
    "            given_weights = weighting.set_default_given_weights('uniform', election_profile, list(range(n_cands)), rep_ids, normalized = True)\n",
    "            weights = weighting.aggregate_weights(given_weights)\n",
    "            issue_outcomes = voting.weighted_majority(c_profile, weights)\n",
    "            #print(f'weights: {weights}')\n",
    "            #print(f'disagreements: {(voter_majority_outcomes ^ issue_outcomes)}')\n",
    "            dd_rd_distance = np.sum(voter_majority_outcomes ^ issue_outcomes) / n_issues\n",
    "            agreements[rule].append(1-dd_rd_distance)\n",
    "\n",
    "    return agreements\n",
    "            \n",
    "            "
   ]
  },
  {
   "cell_type": "markdown",
   "id": "9d1f306d",
   "metadata": {},
   "source": [
    "# Quick Test"
   ]
  },
  {
   "cell_type": "code",
   "execution_count": null,
   "id": "da8f5dea",
   "metadata": {},
   "outputs": [
    {
     "ename": "NameError",
     "evalue": "name 'augmented_counts' is not defined",
     "output_type": "error",
     "traceback": [
      "\u001b[0;31m---------------------------------------------------------------------------\u001b[0m",
      "\u001b[0;31mNameError\u001b[0m                                 Traceback (most recent call last)",
      "\u001b[0;32m/var/folders/bm/dq_09xyx5kv9hwts9rkcqyv00000gn/T/ipykernel_48697/307230874.py\u001b[0m in \u001b[0;36m<module>\u001b[0;34m\u001b[0m\n\u001b[1;32m     11\u001b[0m \u001b[0mrules_list\u001b[0m \u001b[0;34m=\u001b[0m \u001b[0;34m[\u001b[0m\u001b[0;34m'max_approval'\u001b[0m\u001b[0;34m,\u001b[0m\u001b[0;34m'borda'\u001b[0m\u001b[0;34m,\u001b[0m \u001b[0;34m'plurality'\u001b[0m\u001b[0;34m,\u001b[0m \u001b[0;34m'rav'\u001b[0m\u001b[0;34m,\u001b[0m\u001b[0;34m'max_score'\u001b[0m\u001b[0;34m]\u001b[0m\u001b[0;31m#, 'stv']\u001b[0m\u001b[0;34m\u001b[0m\u001b[0;34m\u001b[0m\u001b[0m\n\u001b[1;32m     12\u001b[0m \u001b[0;34m\u001b[0m\u001b[0m\n\u001b[0;32m---> 13\u001b[0;31m \u001b[0magreements\u001b[0m \u001b[0;34m=\u001b[0m \u001b[0magreements_rd\u001b[0m\u001b[0;34m(\u001b[0m\u001b[0mn_iter\u001b[0m\u001b[0;34m,\u001b[0m \u001b[0mn_voters\u001b[0m\u001b[0;34m,\u001b[0m \u001b[0mn_cands\u001b[0m\u001b[0;34m,\u001b[0m \u001b[0mn_issues\u001b[0m\u001b[0;34m,\u001b[0m \u001b[0mvoters_p\u001b[0m\u001b[0;34m,\u001b[0m \u001b[0mcands_p\u001b[0m\u001b[0;34m,\u001b[0m \u001b[0mrules_list\u001b[0m\u001b[0;34m)\u001b[0m\u001b[0;34m\u001b[0m\u001b[0;34m\u001b[0m\u001b[0m\n\u001b[0m\u001b[1;32m     14\u001b[0m \u001b[0mprint\u001b[0m\u001b[0;34m(\u001b[0m\u001b[0magreements\u001b[0m\u001b[0;34m)\u001b[0m\u001b[0;34m\u001b[0m\u001b[0;34m\u001b[0m\u001b[0m\n",
      "\u001b[0;32m/var/folders/bm/dq_09xyx5kv9hwts9rkcqyv00000gn/T/ipykernel_48697/126000849.py\u001b[0m in \u001b[0;36magreements_rd\u001b[0;34m(n_iter, n_voters, n_cands, n_issues, voters_p, cands_p, rules_list)\u001b[0m\n\u001b[1;32m     35\u001b[0m             \u001b[0;32melif\u001b[0m \u001b[0mrule\u001b[0m \u001b[0;34m==\u001b[0m \u001b[0;34m'max_score'\u001b[0m\u001b[0;34m:\u001b[0m\u001b[0;34m\u001b[0m\u001b[0;34m\u001b[0m\u001b[0m\n\u001b[1;32m     36\u001b[0m                 \u001b[0melection_profile\u001b[0m \u001b[0;34m=\u001b[0m \u001b[0mderivatives\u001b[0m\u001b[0;34m[\u001b[0m\u001b[0;34m'scores_profile'\u001b[0m\u001b[0;34m]\u001b[0m\u001b[0;34m\u001b[0m\u001b[0;34m\u001b[0m\u001b[0m\n\u001b[0;32m---> 37\u001b[0;31m                 \u001b[0mrep_ids\u001b[0m\u001b[0;34m,\u001b[0m \u001b[0m_\u001b[0m \u001b[0;34m=\u001b[0m \u001b[0melections\u001b[0m\u001b[0;34m.\u001b[0m\u001b[0mmax_score\u001b[0m\u001b[0;34m(\u001b[0m\u001b[0melection_profile\u001b[0m\u001b[0;34m,\u001b[0m \u001b[0mn_reps\u001b[0m\u001b[0;34m,\u001b[0m \u001b[0mseed\u001b[0m\u001b[0;34m=\u001b[0m\u001b[0mi\u001b[0m\u001b[0;34m)\u001b[0m\u001b[0;34m\u001b[0m\u001b[0;34m\u001b[0m\u001b[0m\n\u001b[0m\u001b[1;32m     38\u001b[0m             \u001b[0;32melse\u001b[0m\u001b[0;34m:\u001b[0m\u001b[0;34m\u001b[0m\u001b[0;34m\u001b[0m\u001b[0m\n\u001b[1;32m     39\u001b[0m                 \u001b[0;32mraise\u001b[0m \u001b[0mValueError\u001b[0m\u001b[0;34m(\u001b[0m\u001b[0;34mf'Rule {rule} not implemented yet in this experiment'\u001b[0m\u001b[0;34m)\u001b[0m\u001b[0;34m\u001b[0m\u001b[0;34m\u001b[0m\u001b[0m\n",
      "\u001b[0;32m~/Documents/Research/FRD/m02_elections.ipynb\u001b[0m in \u001b[0;36mmax_score\u001b[0;34m(scores_profile, committee_size, seed)\u001b[0m\n\u001b[1;32m      3\u001b[0m   {\n\u001b[1;32m      4\u001b[0m    \u001b[0;34m\"cell_type\"\u001b[0m\u001b[0;34m:\u001b[0m \u001b[0;34m\"code\"\u001b[0m\u001b[0;34m,\u001b[0m\u001b[0;34m\u001b[0m\u001b[0;34m\u001b[0m\u001b[0m\n\u001b[0;32m----> 5\u001b[0;31m    \u001b[0;34m\"execution_count\"\u001b[0m\u001b[0;34m:\u001b[0m \u001b[0mnull\u001b[0m\u001b[0;34m,\u001b[0m\u001b[0;34m\u001b[0m\u001b[0;34m\u001b[0m\u001b[0m\n\u001b[0m\u001b[1;32m      6\u001b[0m    \u001b[0;34m\"id\"\u001b[0m\u001b[0;34m:\u001b[0m \u001b[0;34m\"64afd033\"\u001b[0m\u001b[0;34m,\u001b[0m\u001b[0;34m\u001b[0m\u001b[0;34m\u001b[0m\u001b[0m\n\u001b[1;32m      7\u001b[0m    \u001b[0;34m\"metadata\"\u001b[0m\u001b[0;34m:\u001b[0m \u001b[0;34m{\u001b[0m\u001b[0;34m}\u001b[0m\u001b[0;34m,\u001b[0m\u001b[0;34m\u001b[0m\u001b[0;34m\u001b[0m\u001b[0m\n",
      "\u001b[0;31mNameError\u001b[0m: name 'augmented_counts' is not defined"
     ]
    }
   ],
   "source": [
    "n_iter = 3\n",
    "n_voters = 3\n",
    "n_cands = 5\n",
    "n_reps = 2\n",
    "n_issues = 10\n",
    "threshold = 0.5\n",
    "\n",
    "voters_p = 0.25\n",
    "cands_p = 0.5\n",
    "\n",
    "rules_list = ['max_approval','borda', 'plurality', 'rav','max_score']#, 'stv']\n",
    "\n",
    "agreements = agreements_rd(n_iter, n_voters, n_cands, n_issues, voters_p, cands_p, rules_list)\n",
    "print(agreements)"
   ]
  },
  {
   "cell_type": "code",
   "execution_count": null,
   "id": "6189a26b",
   "metadata": {},
   "outputs": [],
   "source": [
    "x = np.argwhere(np.array([1,2,3]) == 4).flatten()\n",
    "if x.size != 0: print(\"here\")"
   ]
  },
  {
   "cell_type": "code",
   "execution_count": null,
   "id": "1fad456f",
   "metadata": {},
   "outputs": [],
   "source": [
    "np.delete(np.array([1,2,3,4]),-1)"
   ]
  },
  {
   "cell_type": "code",
   "execution_count": null,
   "id": "560ade83",
   "metadata": {},
   "outputs": [],
   "source": []
  }
 ],
 "metadata": {
  "kernelspec": {
   "display_name": "Python 3 (ipykernel)",
   "language": "python",
   "name": "python3"
  }
 },
 "nbformat": 4,
 "nbformat_minor": 5
}
