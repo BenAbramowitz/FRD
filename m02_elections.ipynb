{
 "cells": [
  {
   "cell_type": "code",
   "execution_count": null,
   "id": "64afd033",
   "metadata": {},
   "outputs": [],
   "source": [
    "import numpy as np\n",
    "import itertools\n",
    "import gurobipy as gpy\n",
    "import whalrus\n",
    "\n",
    "import nbimporter\n",
    "import m00_helper as helper\n",
    "import m01_profiles as profiles"
   ]
  },
  {
   "cell_type": "code",
   "execution_count": null,
   "id": "205ba276",
   "metadata": {},
   "outputs": [],
   "source": [
    "def random_winners(n_cands, committee_size, seed=None):\n",
    "    np.random.seed(seed)\n",
    "    return np.random.choice(np.arange(n_cands), committee_size, replace=False)"
   ]
  },
  {
   "cell_type": "markdown",
   "id": "c1ef1470",
   "metadata": {},
   "source": [
    "#### Rules based on preference orders/ordermaps"
   ]
  },
  {
   "cell_type": "code",
   "execution_count": null,
   "id": "6ca00676",
   "metadata": {},
   "outputs": [],
   "source": [
    "def scoring_ordermaps(ordermap, score_vector):\n",
    "    '''\n",
    "    Given an ordermap and a score_vector, return a vector of the scores of the candidates\n",
    "    \n",
    "    PARAMS:\n",
    "    ordermap (np.ndarray): 2D matrix of size n_voters x n_cands. \n",
    "                            The value ordermap[i,j] is the rank voter i gives to cand j\n",
    "    score_vector (np.ndarray): 1D array of numbers of score increase a cand gets based on the rank a voter gives them\n",
    "    \n",
    "    NOTES:\n",
    "    Currently using nested for loops which is very slow but easy to read and debug\n",
    "    '''\n",
    "    scores = np.zeros_like(score_vector)\n",
    "    for row in ordermap:\n",
    "        for cand,rank in enumerate(row):\n",
    "            scores[cand] += score_vector[rank]\n",
    "    return scores"
   ]
  },
  {
   "cell_type": "code",
   "execution_count": null,
   "id": "89b8a4bf",
   "metadata": {},
   "outputs": [],
   "source": [
    "def scoring_rule_ordermap(ordermap, score_vector, committee_size, seed=None):\n",
    "    scores = scoring_ordermaps(ordermap, score_vector)\n",
    "    augmented_scores = helper.array1D_to_sorted_indices(scores, seed)\n",
    "    winners = np.flip(augmented_scores[:,2][-committee_size:].astype(int))\n",
    "    return winners, scores"
   ]
  },
  {
   "cell_type": "code",
   "execution_count": null,
   "id": "67ed1b8d",
   "metadata": {},
   "outputs": [],
   "source": [
    "def plurality(ordermap, committee_size, seed=None):\n",
    "    score_vector = np.zeros(ordermap.shape[1], dtype=int)\n",
    "    score_vector[0] += 1\n",
    "    return scoring_rule_ordermap(ordermap, score_vector, committee_size, seed)"
   ]
  },
  {
   "cell_type": "code",
   "execution_count": null,
   "id": "ca28b63d",
   "metadata": {},
   "outputs": [],
   "source": [
    "def borda(ordermap, committee_size, seed=None):\n",
    "    n_cands = ordermap.shape[1]\n",
    "    score_vector = np.arange(n_cands-1, -1, -1, dtype=int)\n",
    "    return scoring_rule_ordermap(ordermap, score_vector, committee_size, seed)"
   ]
  },
  {
   "cell_type": "code",
   "execution_count": null,
   "id": "8c00202c",
   "metadata": {},
   "outputs": [],
   "source": [
    "def scoring_rule_old(score_vector, ranks, candidates, committee_size, seed=None):\n",
    "    '''\n",
    "    Parameters\n",
    "    ----------\n",
    "    score_vector: vector of numbers of len candidates that defines how much weight to give to that position.\n",
    "    \n",
    "    ranks: dict of voters to a ranked list of candidates (candidate list can be incomplete.)\n",
    "    \n",
    "    candidates: list of all candidates.\n",
    "    \n",
    "    committee_size: int < candidates that is the size of the comittee.  Return in ranked order.\n",
    "    \n",
    "    Returns\n",
    "    -------\n",
    "    committee: list of candidates in order of their STV elimination, result\n",
    "    \n",
    "    Notes\n",
    "    -----\n",
    "    This mereley truncates the scoring rule if votes are incomplete.. there is an axiomatic argument for doing an\n",
    "    average.\n",
    "    \n",
    "    '''\n",
    "    result = {x:0.0 for x in candidates}\n",
    "    for v_id,v_pref in ranks.items():\n",
    "        for i,c in enumerate(v_pref):\n",
    "            result[c] += score_vector[i]\n",
    "    sorted_list = [c for c in sorted(result, key=result.get, reverse=True)]\n",
    "    \n",
    "    #Break ties randomly between cands with same score\n",
    "    tiebreakers = helper.create_tiebreakers(len(sorted_list), seed, dtype=int)\n",
    "    array_augmented = np.column_stack((sorted_list, tiebreakers))\n",
    "    sorted_indices = np.lexsort((array_augmented[:, 1], array_augmented[:, 0]))\n",
    "    \n",
    "    return sorted_indices[:committee_size], result"
   ]
  },
  {
   "cell_type": "code",
   "execution_count": null,
   "id": "db7452df",
   "metadata": {},
   "outputs": [],
   "source": [
    "def single_transferable_vote(orders, committee_size, seed=None):\n",
    "    '''\n",
    "    PARAMETERS\n",
    "    ----------\n",
    "    orders: np.ndarray with a row for each voter that is a ranked list of candidates\n",
    "    \n",
    "    candidates: list of all candidates.\n",
    "    \n",
    "    committee_size: int < candidates that is the size of the comittee.  Return in ranked order.\n",
    "    \n",
    "    RETURNS\n",
    "    -------\n",
    "    committee: list of candidates in order of their STV elimination.\n",
    "    \n",
    "    \n",
    "    NOTES\n",
    "    ------\n",
    "    orders matrix is currently converted to dict to take advantage of old implementation. Slow but it works.\n",
    "    \n",
    "    '''\n",
    "    # Compute the STV rank.. that is keep deleting candidates till we have no one left...\n",
    "    unranked_cands = list(range(orders.shape[1]))\n",
    "    ranks = {voter:ranking for voter,ranking in enumerate(orders)}\n",
    "    modified_ranks = copy.copy(ranks)\n",
    "    result = []\n",
    "    while len(unranked_cands) > 0:\n",
    "        # Compute the current plurality score of all candidates.\n",
    "        c, plurality_scores = scoring_rule_old([1] + [0]*(len(unranked_cands)-1), ranks, unranked_cands, len(unranked_cands))\n",
    "        #print(\"plurality order:\",str(c))\n",
    "        #print(\"plurl scores\",str(plurality_scores))\n",
    "        # Delete the lowest and add him to the list.\n",
    "        result.insert(0,c[-1])\n",
    "        #print(result)\n",
    "        #print(unranked_cands)\n",
    "        unranked_cands.remove(c[-1])\n",
    "        # Need to delete him from all votes...\n",
    "        #print(modified_ranks)\n",
    "        # remove the candidate.\n",
    "        for i,p in modified_ranks.items():\n",
    "            p.remove(c[-1])\n",
    "        #print(modified_ranks)\n",
    "    return result[:committee_size]"
   ]
  },
  {
   "cell_type": "markdown",
   "id": "d52b11a9",
   "metadata": {},
   "source": [
    "#### Approval-based rules"
   ]
  },
  {
   "cell_type": "code",
   "execution_count": null,
   "id": "3b79c6e5",
   "metadata": {},
   "outputs": [],
   "source": [
    "def max_approval(approvals_profile, committee_size, seed=None):\n",
    "    approval_counts = np.sum(approvals_profile, axis=0)\n",
    "    augmented_counts = helper.array1D_to_sorted_indices(approval_counts, seed)\n",
    "    return augmented_counts[:,2][-committee_size:]"
   ]
  },
  {
   "cell_type": "code",
   "execution_count": null,
   "id": "6773f59b",
   "metadata": {},
   "outputs": [],
   "source": [
    "def repeated_alternative_vote(approvals, committee_size):\n",
    "    '''\n",
    "    Parameters\n",
    "    ----------\n",
    "    approvals: voter indexed list of approval ballots.\n",
    "    \n",
    "    candidates: list of candidates.\n",
    "    \n",
    "    committee_size: int < candidates that is the size of the comittee.  Return in ranked order that the committee was selected.\n",
    "    \n",
    "    Returns\n",
    "    -------\n",
    "    committee: list of candidates in order of their STV elimination, result\n",
    "    \n",
    "    Notes\n",
    "    -----\n",
    "    Runs RAV in a fairly efficient way...\n",
    "    \n",
    "    '''\n",
    "    candidates = list(range(approvals.shape[1]))\n",
    "    result = []\n",
    "    while len(result) < committee_size:\n",
    "        # Select the winner weighted 1/approval set intersection.\n",
    "        non_winners = set(candidates) - set(result)\n",
    "        c_scores = {c:0 for c in non_winners}\n",
    "        \n",
    "        for v_id, v_pref in approvals.items():\n",
    "            # every non-winning approved candidate get 1/intersection points..\n",
    "            intersect = len(set(result).intersection(v_pref)) + 1\n",
    "            for c in non_winners:\n",
    "                if c in v_pref:\n",
    "                    c_scores[c] += 1.0 / intersect\n",
    "        # choose the highest score...\n",
    "        #print(c_scores)\n",
    "        order = [k for k in sorted(c_scores, key=c_scores.get, reverse=True)]\n",
    "        \n",
    "        tiebreakers = helper.create_tiebreakers(len(order), dtype=int)\n",
    "        array_augmented = np.column_stack((order, tiebreakers))\n",
    "        order_tiebroken = np.lexsort((array_augmented[:, 1], array_augmented[:, 0]))\n",
    "        \n",
    "        result.append(order_tiebroken[0])\n",
    "    return result\n",
    "\n",
    "# voters_on_issues, candidates_on_issues = genpref.create_binary_random_preferences(5, 5, 5)\n",
    "# print(\"Voters: \" + str(voters_on_issues))\n",
    "# print(\"Cands: \" + str(candidates_on_issues))\n",
    "# approvals = issues_to_approvals(voters_on_issues, candidates_on_issues)\n",
    "# print(approvals)\n",
    "# print(repeated_alternative_vote(approvals, candidates_on_issues.keys(), 3))"
   ]
  },
  {
   "cell_type": "markdown",
   "id": "712aaf65",
   "metadata": {},
   "source": [
    "#### Score-based rules"
   ]
  },
  {
   "cell_type": "code",
   "execution_count": null,
   "id": "5124df01",
   "metadata": {},
   "outputs": [],
   "source": [
    "def max_score(scores_profile, committee_size, seed=None):\n",
    "    scores = np.sum(scores_profile, axis=0)\n",
    "    augmented_scores = helper.array1D_to_sorted_indices(scores, seed)\n",
    "    scores_tiebroken = augmented_scores[:,0]\n",
    "    winners = augmented_counts[:,2][-committee_size:]\n",
    "    return winners, scores_tiebroken"
   ]
  },
  {
   "cell_type": "code",
   "execution_count": null,
   "id": "a63dfe30",
   "metadata": {},
   "outputs": [],
   "source": []
  },
  {
   "cell_type": "markdown",
   "id": "d5635145",
   "metadata": {},
   "source": [
    "### Convenience Functions"
   ]
  },
  {
   "cell_type": "code",
   "execution_count": null,
   "id": "f4582576",
   "metadata": {},
   "outputs": [],
   "source": [
    "def all_election_rules():\n",
    "    return random_winners, plurality, borda, single_transferable_vote, "
   ]
  },
  {
   "cell_type": "markdown",
   "id": "07eec907",
   "metadata": {},
   "source": [
    "### Tests"
   ]
  },
  {
   "cell_type": "code",
   "execution_count": null,
   "id": "b339ba8f",
   "metadata": {},
   "outputs": [
    {
     "name": "stdout",
     "output_type": "stream",
     "text": [
      "voter profile:\n",
      "[[0 1 0]\n",
      " [0 0 0]\n",
      " [1 1 0]]\n",
      "cands profile:\n",
      "[[0 1 0]\n",
      " [0 0 0]\n",
      " [1 1 0]]\n",
      "[[0 0 0]\n",
      " [0 1 0]\n",
      " [0 0 1]]\n",
      "distances:\n",
      "[[0.33333333 0.         0.66666667]\n",
      " [0.         0.33333333 0.33333333]\n",
      " [0.66666667 0.33333333 1.        ]]\n",
      "ordermaps:\n",
      "[[1 0 2]\n",
      " [0 1 2]\n",
      " [1 0 2]]\n",
      "plurality winners: [1 0]\n",
      "plurality scores: [1 2 0]\n",
      "borda winners: [1 0]\n",
      "borda scores: [4 5 0]\n"
     ]
    }
   ],
   "source": [
    "voter_profile = profiles.issues_profile(3, 3, p=0.5)\n",
    "cands_profile = profiles.issues_profile(3, 3, p=0.5)\n",
    "print(f'voter profile:\\n{voter_profile}')\n",
    "print(f'cands profile:\\n{voter_profile}')\n",
    "print(cands_profile)\n",
    "distances = profiles.issues_to_distances(voter_profile, cands_profile)\n",
    "print(f'distances:\\n{distances}')\n",
    "ordermaps = profiles.distances_to_ordermaps(distances)\n",
    "print(f'ordermaps:\\n{ordermaps}')\n",
    "plurality_winners, plurality_scores = plurality(ordermaps, 2)\n",
    "print(f'plurality winners: {plurality_winners}')\n",
    "print(f'plurality scores: {plurality_scores}')\n",
    "borda_winners, borda_scores = borda(ordermaps, 2)\n",
    "print(f'borda winners: {borda_winners}')\n",
    "print(f'borda scores: {borda_scores}')"
   ]
  },
  {
   "cell_type": "markdown",
   "id": "b51b94a7",
   "metadata": {},
   "source": [
    "### Notes"
   ]
  },
  {
   "cell_type": "markdown",
   "id": "c7c46c17",
   "metadata": {},
   "source": [
    "If the score of a cand from an agent is 1-Hamming Distance, then isn't taking the top cands with the highest sum of scores the same as taking the top cands with the lowest sum of distances? This seems like a greedy way of selecting k clustering centers, as comapred to k-median. So this difference may be worth noting."
   ]
  },
  {
   "cell_type": "code",
   "execution_count": null,
   "id": "791210de",
   "metadata": {},
   "outputs": [],
   "source": []
  },
  {
   "cell_type": "markdown",
   "id": "d99291eb",
   "metadata": {},
   "source": [
    "# TO DO"
   ]
  },
  {
   "cell_type": "markdown",
   "id": "045c5c0a",
   "metadata": {},
   "source": [
    "#### NP-Hard Rules based on OWAs"
   ]
  },
  {
   "cell_type": "code",
   "execution_count": null,
   "id": "801c1074",
   "metadata": {},
   "outputs": [],
   "source": [
    "def chamberlin_courant(voter_issue_profile, cands_issue_profile, committee_size, seed=None):\n",
    "    return"
   ]
  },
  {
   "cell_type": "code",
   "execution_count": null,
   "id": "1996d653",
   "metadata": {},
   "outputs": [],
   "source": [
    " ###Q: What type of profile does this function take? Approvals, Rankings, or Scores\n",
    "def k_median(profile, committee_size):\n",
    "    return"
   ]
  },
  {
   "cell_type": "code",
   "execution_count": null,
   "id": "d05b4789",
   "metadata": {},
   "outputs": [],
   "source": []
  },
  {
   "cell_type": "code",
   "execution_count": null,
   "id": "ad9db3ea",
   "metadata": {},
   "outputs": [],
   "source": []
  }
 ],
 "metadata": {
  "kernelspec": {
   "display_name": "Python 3 (ipykernel)",
   "language": "python",
   "name": "python3"
  }
 },
 "nbformat": 4,
 "nbformat_minor": 5
}
