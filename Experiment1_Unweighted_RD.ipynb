{
 "cells": [
  {
   "cell_type": "code",
   "execution_count": null,
   "id": "297a74a8",
   "metadata": {},
   "outputs": [],
   "source": [
    "import nbimporter\n",
    "import m00_helper as helper\n",
    "import m01_profiles as profiles\n",
    "import m02_elections as elections\n",
    "import m03_weighting as weighting\n",
    "import m04_issue_voting as issues"
   ]
  },
  {
   "cell_type": "code",
   "execution_count": null,
   "id": "ef6e50f1",
   "metadata": {},
   "outputs": [],
   "source": []
  },
  {
   "cell_type": "code",
   "execution_count": null,
   "id": "605f5376",
   "metadata": {},
   "outputs": [],
   "source": [
    "# Read in parameters of the experiment from a file\n",
    "\n",
    "# For each independent variable of interest (i.e. num cands, num voters, num issues)\n",
    "    # For iter in num iter\n",
    "        # Generate profile for candidates\n",
    "        # For iter in num iter per cands\n",
    "            # Generate profile for voters\n",
    "            # Compute outcomes preferred by the voter majority\n",
    "            # For every rule in the set of rules\n",
    "                # Compute winning candidates under that rule\n",
    "                # Compute outcomes of issues based on reps' votes\n",
    "                # Compute agreement with voter majority\n",
    "\n",
    "# For each independent variable of interest\n",
    "    # Create a plot for the results\n",
    "        # For rule in set of rules\n",
    "            # Get the mean and variance of the agreements for each value of the independent variable\n",
    "            # Save data to csv file\n",
    "            # Add line for this rule to plot\n",
    "    # Save plot (make sure not to overwrite)\n",
    "\n",
    "# Save all param values of the experiment that was run to a csv file with all experiments run (append, don't overwrite)\n",
    "    "
   ]
  },
  {
   "cell_type": "code",
   "execution_count": null,
   "id": "11f22a1b",
   "metadata": {},
   "outputs": [
    {
     "ename": "NameError",
     "evalue": "name 'threstholds' is not defined",
     "output_type": "error",
     "traceback": [
      "\u001b[0;31m---------------------------------------------------------------------------\u001b[0m",
      "\u001b[0;31mNameError\u001b[0m                                 Traceback (most recent call last)",
      "\u001b[0;32m/var/folders/bm/dq_09xyx5kv9hwts9rkcqyv00000gn/T/ipykernel_10770/3250613807.py\u001b[0m in \u001b[0;36m<module>\u001b[0;34m\u001b[0m\n\u001b[1;32m     15\u001b[0m     \u001b[0mvoter_profile\u001b[0m \u001b[0;34m=\u001b[0m \u001b[0mprofiles\u001b[0m\u001b[0;34m.\u001b[0m\u001b[0missues_profile\u001b[0m\u001b[0;34m(\u001b[0m\u001b[0mN_VOTERS\u001b[0m\u001b[0;34m,\u001b[0m \u001b[0mN_ISSUES\u001b[0m\u001b[0;34m,\u001b[0m \u001b[0mVOTER_P\u001b[0m\u001b[0;34m)\u001b[0m\u001b[0;34m\u001b[0m\u001b[0;34m\u001b[0m\u001b[0m\n\u001b[1;32m     16\u001b[0m \u001b[0;34m\u001b[0m\u001b[0m\n\u001b[0;32m---> 17\u001b[0;31m     profile_derivatives = profiles.all_issues_profile_derivatives(voter_profile, cands_profile, \n\u001b[0m\u001b[1;32m     18\u001b[0m                                                           APPROVAL_THRESHOLDS, APPROVAL_K_VALS)\n\u001b[1;32m     19\u001b[0m \u001b[0;34m\u001b[0m\u001b[0m\n",
      "\u001b[0;32m~/Documents/Research/FRD/m01_profiles.ipynb\u001b[0m in \u001b[0;36mall_issues_profile_derivatives\u001b[0;34m(voter_issues_profile, cand_issues_profile, thresholds, k_vals)\u001b[0m\n\u001b[1;32m      3\u001b[0m   {\n\u001b[1;32m      4\u001b[0m    \u001b[0;34m\"cell_type\"\u001b[0m\u001b[0;34m:\u001b[0m \u001b[0;34m\"code\"\u001b[0m\u001b[0;34m,\u001b[0m\u001b[0;34m\u001b[0m\u001b[0;34m\u001b[0m\u001b[0m\n\u001b[0;32m----> 5\u001b[0;31m    \u001b[0;34m\"execution_count\"\u001b[0m\u001b[0;34m:\u001b[0m \u001b[0mnull\u001b[0m\u001b[0;34m,\u001b[0m\u001b[0;34m\u001b[0m\u001b[0;34m\u001b[0m\u001b[0m\n\u001b[0m\u001b[1;32m      6\u001b[0m    \u001b[0;34m\"id\"\u001b[0m\u001b[0;34m:\u001b[0m \u001b[0;34m\"c462cabe\"\u001b[0m\u001b[0;34m,\u001b[0m\u001b[0;34m\u001b[0m\u001b[0;34m\u001b[0m\u001b[0m\n\u001b[1;32m      7\u001b[0m    \u001b[0;34m\"metadata\"\u001b[0m\u001b[0;34m:\u001b[0m \u001b[0;34m{\u001b[0m\u001b[0;34m}\u001b[0m\u001b[0;34m,\u001b[0m\u001b[0;34m\u001b[0m\u001b[0;34m\u001b[0m\u001b[0m\n",
      "\u001b[0;31mNameError\u001b[0m: name 'threstholds' is not defined"
     ]
    }
   ],
   "source": [
    "N_VOTERS = 10\n",
    "N_CANDS = 10\n",
    "N_REPS = 5\n",
    "N_ISSUES = 10\n",
    "RULES_LIST = ['plurality']\n",
    "N_ITER = 100\n",
    "VOTER_P = 0.5\n",
    "CAND_P = 0.5\n",
    "\n",
    "APPROVAL_THRESHOLDS = [0.5]\n",
    "APPROVAL_K_VALS = [N_REPS]\n",
    "\n",
    "for _ in range(N_ITER):\n",
    "    cands_profile = profiles.issues_profile(N_CANDS, N_ISSUES, CAND_P)\n",
    "    voter_profile = profiles.issues_profile(N_VOTERS, N_ISSUES, VOTER_P)\n",
    "    \n",
    "    profile_derivatives = profiles.all_issues_profile_derivatives(voter_profile, cands_profile, \n",
    "                                                          APPROVAL_THRESHOLDS, APPROVAL_K_VALS)\n",
    "    \n",
    "    print(profile_derivatives)\n",
    "\n",
    "    "
   ]
  },
  {
   "cell_type": "code",
   "execution_count": null,
   "id": "a731f1a4",
   "metadata": {},
   "outputs": [],
   "source": []
  },
  {
   "cell_type": "code",
   "execution_count": null,
   "id": "50911248",
   "metadata": {},
   "outputs": [],
   "source": []
  },
  {
   "cell_type": "code",
   "execution_count": null,
   "id": "bcb25e61",
   "metadata": {},
   "outputs": [],
   "source": []
  }
 ],
 "metadata": {
  "kernelspec": {
   "display_name": "Python 3 (ipykernel)",
   "language": "python",
   "name": "python3"
  }
 },
 "nbformat": 4,
 "nbformat_minor": 5
}
