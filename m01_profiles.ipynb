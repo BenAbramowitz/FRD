{
 "cells": [
  {
   "cell_type": "code",
   "execution_count": null,
   "id": "c462cabe",
   "metadata": {},
   "outputs": [],
   "source": [
    "import numpy as np\n",
    "import nbimporter\n",
    "import m00_helper as helper\n",
    "from typing import Callable #to type hint Callable functions"
   ]
  },
  {
   "cell_type": "markdown",
   "id": "42a9fe0b",
   "metadata": {},
   "source": [
    "#### Create profiles of agents' preferences over issues"
   ]
  },
  {
   "cell_type": "code",
   "execution_count": null,
   "id": "a2e3f8e6",
   "metadata": {},
   "outputs": [],
   "source": [
    "def issues_profile(n_agents, n_issues, p, seed=None)->np.ndarray:\n",
    "    '''returns a binary np.ndarray of shape n_agents x n_issues with vals drawn from Bernoulli with param p'''\n",
    "    np.random.seed(seed)\n",
    "    return np.random.binomial(1, p, size=(n_agents, n_issues))"
   ]
  },
  {
   "cell_type": "markdown",
   "id": "fefd82f0",
   "metadata": {},
   "source": [
    "#### Compute the distances between voters and cands based on their prefereces\n",
    "\n",
    "- Distances are normalized to be in the inclusive range [0,1] where 0 means identical preferences over issues and 1 means they maximally disagree on the issues"
   ]
  },
  {
   "cell_type": "code",
   "execution_count": null,
   "id": "add6b2e8",
   "metadata": {},
   "outputs": [],
   "source": [
    "def issues_to_distances(voter_issues_profile, cand_issues_profile)->np.ndarray:\n",
    "    '''returns pairwise distances between voters and cands from their prefs over issues as matrix of size n_voters x n_cands'''\n",
    "    hamming_distances = np.sum(voter_issues_profile[:, None] != cand_issues_profile, axis=2)\n",
    "    return hamming_distances / voter_issues_profile.shape[1] #normalize distances by dividing by num issues"
   ]
  },
  {
   "cell_type": "markdown",
   "id": "97d6f6d3",
   "metadata": {},
   "source": [
    "#### Compute voter prefs over candidates induced by distances between them"
   ]
  },
  {
   "cell_type": "code",
   "execution_count": null,
   "id": "7d00ec10",
   "metadata": {},
   "outputs": [],
   "source": [
    "def distances_to_threshold_approvals(voter_cand_distances, threshold)->np.ndarray:\n",
    "    '''returns matrix of approval ballots of voters over candidates based on if distance is strictly below a threshold'''\n",
    "    return voter_cand_distances < threshold"
   ]
  },
  {
   "cell_type": "code",
   "execution_count": null,
   "id": "401cd23e",
   "metadata": {},
   "outputs": [],
   "source": [
    "def distance_to_k_approval_one_voter(distances, k, seed = None):\n",
    "    '''Given a 1D np.ndarray returns the k smallest values with ties broken randomly among those tied for k^th'''\n",
    "    distances_augmented = helper.array1D_to_sorted_indices(distances, seed)\n",
    "    approved_cands = distances_augmented[:,2][:k].astype(int)\n",
    "    indicator_array = np.zeros(len(distances), dtype=int)\n",
    "    indicator_array[approved_cands] = 1\n",
    "    return indicator_array"
   ]
  },
  {
   "cell_type": "code",
   "execution_count": null,
   "id": "6fdbb08e",
   "metadata": {},
   "outputs": [],
   "source": [
    "def distances_to_k_approvals(voter_cand_distances, k, seed=None)->np.ndarray:\n",
    "    '''returns matrix of approval ballots where voters approve of top k cands with lowest distance to them.\n",
    "        Ties are broken randomly.\n",
    "    '''\n",
    "    return np.array(list(map(distance_to_k_approval_one_voter,\n",
    "                             voter_cand_distances, \n",
    "                             [k]*len(voter_cand_distances),\n",
    "                            [seed]*len(voter_cand_distances))))"
   ]
  },
  {
   "cell_type": "code",
   "execution_count": null,
   "id": "ff41e206",
   "metadata": {},
   "outputs": [],
   "source": [
    "def distances_to_scores(voter_cand_distances)->np.ndarray:\n",
    "    '''returns matrix of scores from voters of candidates based on matrix of distances'''\n",
    "    return 1-voter_cand_distances"
   ]
  },
  {
   "cell_type": "code",
   "execution_count": null,
   "id": "e6be6fda",
   "metadata": {},
   "outputs": [],
   "source": [
    "def distances_to_ordermaps_one_voter(distances, seed = None):\n",
    "    ordermap = np.empty_like(distances, dtype=int)\n",
    "    distances_augmented = helper.array1D_to_sorted_indices(distances, seed)\n",
    "    sorted_indices = distances_augmented[:,2].astype(int)\n",
    "    for idx, elem in enumerate(sorted_indices):\n",
    "        ordermap[elem] = idx\n",
    "    return ordermap"
   ]
  },
  {
   "cell_type": "code",
   "execution_count": null,
   "id": "9a7f921e",
   "metadata": {},
   "outputs": [],
   "source": [
    "def distances_to_ordermaps(voter_cand_distances, seed = None)->np.ndarray:\n",
    "    '''returns matrix of n_voters x n_cands where M[i,j] is the rank of cand j according to voter i.\n",
    "        Ties are broken randomly.\n",
    "    '''\n",
    "    return np.array(list(map(distances_to_ordermaps_one_voter,\n",
    "                             voter_cand_distances,\n",
    "                             [seed]*voter_cand_distances.shape[0])))"
   ]
  },
  {
   "cell_type": "code",
   "execution_count": null,
   "id": "4cffad51",
   "metadata": {},
   "outputs": [],
   "source": [
    "def distances_to_orders_one_voter(distances, seed = None):\n",
    "    ordermap = np.empty_like(distances, dtype=int)\n",
    "    distances_augmented = helper.array1D_to_sorted_indices(distances, seed)\n",
    "    sorted_indices = distances_augmented[:,2].astype(int)\n",
    "    return sorted_indices"
   ]
  },
  {
   "cell_type": "code",
   "execution_count": null,
   "id": "3a26acb2",
   "metadata": {},
   "outputs": [],
   "source": [
    "def distances_to_orders(voter_cand_distances, seed=None)->np.ndarray:\n",
    "    '''returns matrix of with orders by voters over candidates based on distances.\n",
    "        Ties are broken randomly\n",
    "    '''\n",
    "    return np.array(list(map(distances_to_orders_one_voter,\n",
    "                             voter_cand_distances,\n",
    "                             [seed]*voter_cand_distances.shape[0])))\n"
   ]
  },
  {
   "cell_type": "markdown",
   "id": "a1833dbf",
   "metadata": {},
   "source": [
    "### Convenience Functions"
   ]
  },
  {
   "cell_type": "code",
   "execution_count": null,
   "id": "f0f27e91",
   "metadata": {},
   "outputs": [],
   "source": [
    "def generate_instances(n_voters, n_cands, n_issues, voters_p, cands_p, n_instances, start_seed=0):\n",
    "    instance = {}\n",
    "    for i in range(n_instances):\n",
    "        voter_profile = issues_profile(n_voters, n_issues, voters_p, seed=start_seed+i)\n",
    "        cand_profile = issues_profile(n_cands, n_issues, cands_p, seed=start_seed+i)\n",
    "        distances = issues_to_distances(voter_profile, cand_profile)\n",
    "        instance['voter_issues_profile'] = voter_profile\n",
    "        instance['cand_issues_profile'] = cand_profile\n",
    "        instance['voter_cand_distances'] = distances\n",
    "        yield instance"
   ]
  },
  {
   "cell_type": "code",
   "execution_count": null,
   "id": "26b25d0e",
   "metadata": {},
   "outputs": [],
   "source": [
    "def all_issues_profile_derivatives(voter_issues_profile, cand_issues_profile, threshold, k):\n",
    "    profile_derivatives = {}\n",
    "    voter_cand_distances = issues_to_distances(voter_issues_profile, cand_issues_profile)\n",
    "    profile_derivatives['voter_cand_distances'] = voter_cand_distances\n",
    "    profile_derivatives['threshold_approval_profile'] = distances_to_threshold_approvals(voter_cand_distances, threshold)\n",
    "    profile_derivatives['k_approval_profile'] = distances_to_k_approvals(voter_cand_distances, k)\n",
    "    profile_derivatives['orders_profile'] = distances_to_orders(voter_cand_distances)\n",
    "    profile_derivatives['ordermaps_profile'] = distances_to_ordermaps(voter_cand_distances)\n",
    "    profile_derivatives['scores_profile'] = distances_to_scores(voter_cand_distances)\n",
    "    return profile_derivatives"
   ]
  },
  {
   "cell_type": "markdown",
   "id": "fd01dc76",
   "metadata": {},
   "source": [
    "### Quick Tests"
   ]
  },
  {
   "cell_type": "code",
   "execution_count": null,
   "id": "4632b446",
   "metadata": {},
   "outputs": [
    {
     "name": "stdout",
     "output_type": "stream",
     "text": [
      "\n",
      "voter profile:\n",
      "[[0 0 0]\n",
      " [1 0 0]]\n",
      "\n",
      "cands profile:\n",
      "[[1 1 0]\n",
      " [1 1 1]\n",
      " [0 0 1]]\n",
      "\n",
      "distances:\n",
      "[[0.66666667 1.         0.33333333]\n",
      " [0.33333333 0.66666667 0.66666667]]\n",
      "\n",
      "threshold approvals:\n",
      "[[False False  True]\n",
      " [ True False False]]\n",
      "\n",
      "ordermaps:\n",
      "[[1 2 0]\n",
      " [0 2 1]]\n",
      "\n",
      "orders:\n",
      "[[2 0 1]\n",
      " [0 2 1]]\n",
      "\n",
      "scores:\n",
      "[[0.33333333 0.         0.66666667]\n",
      " [0.66666667 0.33333333 0.33333333]]\n",
      "\n",
      "{'voter_cand_distances': array([[0.66666667, 1.        , 0.33333333],\n",
      "       [0.33333333, 0.66666667, 0.66666667]]), 'threshold_approval_profile': array([[False, False,  True],\n",
      "       [ True, False, False]]), 'k_approval_profile': array([[1, 0, 1],\n",
      "       [1, 0, 1]]), 'orders_profile': array([[2, 0, 1],\n",
      "       [0, 1, 2]]), 'ordermaps_profile': array([[1, 2, 0],\n",
      "       [0, 1, 2]]), 'scores_profile': array([[0.33333333, 0.        , 0.66666667],\n",
      "       [0.66666667, 0.33333333, 0.33333333]])}\n"
     ]
    }
   ],
   "source": [
    "N_VOTERS = 2\n",
    "N_CANDS = 3\n",
    "N_ISSUES = 3\n",
    "\n",
    "voter_profile = issues_profile(N_VOTERS, N_ISSUES, p=0.5)\n",
    "print(f'\\nvoter profile:\\n{voter_profile}')\n",
    "cands_profile = issues_profile(N_CANDS, N_ISSUES, p=0.5)\n",
    "print(f'\\ncands profile:\\n{cands_profile}')\n",
    "distances = issues_to_distances(voter_profile, cands_profile)\n",
    "print(f'\\ndistances:\\n{distances}')\n",
    "thresh_approvals = distances_to_threshold_approvals(distances, 0.5)\n",
    "print(f'\\nthreshold approvals:\\n{thresh_approvals}')\n",
    "# k_approvals = distance_to_k_approval_one_voter(distances[0], 1)\n",
    "# print(f'1_approvals: {k_approvals}')\n",
    "# k_approvals = distance_to_k_approval_one_voter(distances[0], 2)\n",
    "# print(f'2_approvals: {k_approvals}')\n",
    "# k_approvals = distance_to_k_approval_one_voter(distances[0], 3)\n",
    "# print(f'3_approvals: {k_approvals}')\n",
    "ordermaps = distances_to_ordermaps(distances)\n",
    "print(f'\\nordermaps:\\n{ordermaps}')\n",
    "orders = distances_to_orders(distances)\n",
    "print(f'\\norders:\\n{orders}')\n",
    "# k_approvals = distances_to_k_approvals(distances, 2)\n",
    "# print(f'2-approvals: {k_approvals}')\n",
    "scores = distances_to_scores(distances)\n",
    "print(f'\\nscores:\\n{scores}')\n",
    "\n",
    "derivatives = all_issues_profile_derivatives(voter_profile, cands_profile, 0.5, 2)\n",
    "print()\n",
    "print(derivatives)"
   ]
  },
  {
   "cell_type": "code",
   "execution_count": null,
   "id": "3a5248a2",
   "metadata": {},
   "outputs": [],
   "source": []
  }
 ],
 "metadata": {
  "kernelspec": {
   "display_name": "Python 3 (ipykernel)",
   "language": "python",
   "name": "python3"
  }
 },
 "nbformat": 4,
 "nbformat_minor": 5
}
