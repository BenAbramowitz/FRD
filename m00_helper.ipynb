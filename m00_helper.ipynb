{
 "cells": [
  {
   "cell_type": "code",
   "execution_count": null,
   "id": "63504ab9",
   "metadata": {},
   "outputs": [],
   "source": [
    "import numpy as np"
   ]
  },
  {
   "cell_type": "code",
   "execution_count": null,
   "id": "f19477bd",
   "metadata": {},
   "outputs": [],
   "source": [
    "def create_tiebreakers(n_vals, seed=None, dtype=int):\n",
    "    np.random.seed(seed)\n",
    "        \n",
    "    if dtype is int or dtype is np.array([1]).dtype:\n",
    "        return np.random.permutation(n_vals)\n",
    "    elif dtype is float or dtype is np.array([1.0]).dtype:\n",
    "        return np.random.random(n_vals)\n",
    "    else:\n",
    "        raise ValueError('Invalid dtype for create_tiebreakers: {dtype}')"
   ]
  },
  {
   "cell_type": "code",
   "execution_count": null,
   "id": "78f56e96",
   "metadata": {},
   "outputs": [
    {
     "name": "stdout",
     "output_type": "stream",
     "text": [
      "[0 2 1]\n",
      "[0 2 1]\n",
      "[3 2 0 1]\n",
      "[2 1 4 0 3]\n",
      "[2 1 4 0 3]\n",
      "[4.17022005e-01 7.20324493e-01 1.14374817e-04]\n"
     ]
    }
   ],
   "source": [
    "print(create_tiebreakers(3, seed=1))\n",
    "print(create_tiebreakers(3, seed=1))\n",
    "print(create_tiebreakers(4, seed=1))\n",
    "print(create_tiebreakers(5, seed=1))\n",
    "print(create_tiebreakers(5, seed=1, dtype=int))\n",
    "print(create_tiebreakers(3, seed=1, dtype=float))"
   ]
  },
  {
   "cell_type": "code",
   "execution_count": null,
   "id": "4ba471e0",
   "metadata": {},
   "outputs": [],
   "source": [
    "def array1D_to_sorted_indices(array, seed=None, tiebreakers=None, dtype=int):\n",
    "    '''\n",
    "    Ties are broken randomly.\n",
    "    \n",
    "    If random tie-breaking is not necessary one can use argsort instead.\n",
    "    \n",
    "    \n",
    "    RETURNS\n",
    "    --------\n",
    "    array_augments (np.ndarray): 3 col array where first col are the values in array sorted (least to greatest),\n",
    "    second col has values used for tie-breaking, and third col has the sorted indices of the original vals. \n",
    "    e.g. If each value in the input array corresponds to a cand, then the third col has the ids of the cands ordered from least\n",
    "    to greatest in terms of those values.\n",
    "    '''\n",
    "    np.random.seed(seed)\n",
    "    if tiebreakers is None:\n",
    "        tiebreakers = create_tiebreakers(len(array), seed, dtype)\n",
    "    indices = np.arange(len(array), dtype=dtype)\n",
    "    array_augmented = np.column_stack((array, tiebreakers, indices))\n",
    "    sorted_indices = np.lexsort((array_augmented[:, 1], array_augmented[:, 0]))\n",
    "    return array_augmented[sorted_indices]"
   ]
  },
  {
   "cell_type": "code",
   "execution_count": null,
   "id": "fa4ebce0",
   "metadata": {},
   "outputs": [
    {
     "name": "stdout",
     "output_type": "stream",
     "text": [
      "[[1 1 2]\n",
      " [2 7 0]\n",
      " [3 2 1]\n",
      " [4 0 4]\n",
      " [4 3 6]\n",
      " [4 4 5]\n",
      " [4 6 3]\n",
      " [5 5 7]]\n",
      "[[1 6 2]\n",
      " [2 4 0]\n",
      " [3 1 1]\n",
      " [4 2 3]\n",
      " [4 3 4]\n",
      " [4 5 6]\n",
      " [4 7 5]\n",
      " [5 0 7]]\n"
     ]
    }
   ],
   "source": [
    "array_augmented = array1D_to_sorted_indices([2,3,1,4,4,4,4,5], seed = 1, \n",
    "                                                            tiebreakers = None, dtype=int)\n",
    "print(array_augmented)\n",
    "\n",
    "array_augmented = array1D_to_sorted_indices([2,3,1,4,4,4,4,5], seed = 2, \n",
    "                                                            tiebreakers = None, dtype=int)\n",
    "print(array_augmented)"
   ]
  },
  {
   "cell_type": "code",
   "execution_count": null,
   "id": "62d35a80",
   "metadata": {},
   "outputs": [],
   "source": [
    "def normalize1D(array):\n",
    "    total = np.sum(array)\n",
    "    return array / total\n",
    "\n",
    "def normalize_rows_2D(array):\n",
    "    return np.array(list(map(normalize1D,array)))"
   ]
  },
  {
   "cell_type": "code",
   "execution_count": null,
   "id": "80bc6aa2",
   "metadata": {},
   "outputs": [
    {
     "data": {
      "text/plain": [
       "array([[0.05, 0.1 , 0.6 , 0.25],\n",
       "       [0.25, 0.2 , 0.25, 0.3 ]])"
      ]
     },
     "execution_count": null,
     "metadata": {},
     "output_type": "execute_result"
    }
   ],
   "source": [
    "normalize2D([[1,2,12,5],[5,4,5,6]])"
   ]
  },
  {
   "cell_type": "code",
   "execution_count": null,
   "id": "541ec697",
   "metadata": {},
   "outputs": [],
   "source": []
  }
 ],
 "metadata": {
  "kernelspec": {
   "display_name": "Python 3 (ipykernel)",
   "language": "python",
   "name": "python3"
  }
 },
 "nbformat": 4,
 "nbformat_minor": 5
}
