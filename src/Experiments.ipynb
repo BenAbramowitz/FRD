{
 "cells": [
  {
   "cell_type": "code",
   "execution_count": null,
   "id": "adef1e75",
   "metadata": {},
   "outputs": [],
   "source": [
    "import numpy as np\n",
    "\n",
    "import nbimporter\n",
    "import m01_profiles as profiles\n",
    "import m02_elections as elections\n",
    "import m03_weighting as weighting\n",
    "import m04_issue_voting as voting"
   ]
  },
  {
   "cell_type": "markdown",
   "id": "4fd63ec1",
   "metadata": {},
   "source": [
    "# TO DO\n",
    "- Compute agreements for all election rules given and save data to file\n",
    "- Compute means and variances of the agreements for every rule\n",
    "- For each independent variable, create a plot comparing the agreement of each rule under RD\n",
    "- Do the same for FRD for each delegation type"
   ]
  },
  {
   "cell_type": "code",
   "execution_count": null,
   "id": "8947821c",
   "metadata": {},
   "outputs": [],
   "source": [
    "def agreements_rd(n_iter, n_voters, n_cands, n_issues, voters_p, cands_p, rules_list):\n",
    "    agreements = {rule:[] for rule in rules_list}\n",
    "    \n",
    "    for i in range(n_iter):\n",
    "        v_profile, c_profile, vc_distances = profiles.generate_instance(n_voters, \n",
    "                                                                        n_cands, \n",
    "                                                                        n_issues, \n",
    "                                                                        voters_p, \n",
    "                                                                        cands_p, \n",
    "                                                                        seed=i)\n",
    "        #print(f'v_profile: {v_profile}')\n",
    "        #print(f'c_profile: {c_profile}')\n",
    "        #print(f'vc_distances: {vc_distances}')\n",
    "        voter_majority_outcomes = voting.majority(v_profile)\n",
    "#         print(f'voter majority outcomes: {voter_majority_outcomes}')\n",
    "\n",
    "        derivatives = profiles.all_issues_profile_derivatives(v_profile, c_profile, threshold)\n",
    "\n",
    "        for rule in rules_list:\n",
    "            if rule == 'max_approval':\n",
    "                election_profile = derivatives['threshold_approval_profile']\n",
    "                rep_ids, _ = elections.max_approval(election_profile, n_reps, seed=i)\n",
    "            elif rule == 'rav':\n",
    "                election_profile = derivatives['threshold_approval_profile']\n",
    "                rep_ids = elections.repeated_alternative_vote(election_profile, n_reps) #no seed, old implementation\n",
    "            elif rule == 'borda':\n",
    "                election_profile = derivatives['ordermaps_profile']\n",
    "                rep_ids, _ = elections.borda(election_profile, n_reps, seed=i)\n",
    "            elif rule == 'plurality':\n",
    "                election_profile = derivatives['ordermaps_profile']\n",
    "                rep_ids, _ = elections.plurality(election_profile, n_reps, seed=i)\n",
    "#             elif rule == 'stv':\n",
    "#                 election_profile = derivatives['orders_profile']\n",
    "#                 rep_ids = elections.single_transferable_vote(election_profile, n_reps, seed=i)\n",
    "            elif rule == 'max_score':\n",
    "                election_profile = derivatives['scores_profile']\n",
    "                rep_ids, _ = elections.max_score(election_profile, n_reps, seed=i)\n",
    "            else:\n",
    "                raise ValueError(f'Rule {rule} not implemented yet in this experiment')\n",
    "                \n",
    "            #print(f'Using rule: {rule}')\n",
    "\n",
    "            given_weights = weighting.set_default_given_weights('uniform', election_profile, list(range(n_cands)), rep_ids, normalized = True)\n",
    "            weights = weighting.aggregate_weights(given_weights)\n",
    "            issue_outcomes = voting.weighted_majority(c_profile, weights)\n",
    "            #print(f'weights: {weights}')\n",
    "            #print(f'disagreements: {(voter_majority_outcomes ^ issue_outcomes)}')\n",
    "            dd_rd_distance = np.sum(voter_majority_outcomes ^ issue_outcomes) / n_issues\n",
    "            agreements[rule].append(1-dd_rd_distance)\n",
    "\n",
    "    return agreements\n",
    "            \n",
    "            "
   ]
  },
  {
   "cell_type": "markdown",
   "id": "d704f96e",
   "metadata": {},
   "source": [
    "# Quick Test"
   ]
  },
  {
   "cell_type": "code",
   "execution_count": null,
   "id": "b62b6af5",
   "metadata": {},
   "outputs": [
    {
     "name": "stdout",
     "output_type": "stream",
     "text": [
      "{'max_approval': [0.6, 0.7, 0.7], 'borda': [0.5, 0.7, 0.7], 'plurality': [0.6, 0.7, 0.7], 'rav': [0.5, 0.4, 0.5], 'max_score': [0.5, 0.7, 0.7]}\n"
     ]
    }
   ],
   "source": [
    "n_iter = 3\n",
    "n_voters = 3\n",
    "n_cands = 5\n",
    "n_reps = 2\n",
    "n_issues = 10\n",
    "threshold = 0.5\n",
    "\n",
    "voters_p = 0.25\n",
    "cands_p = 0.5\n",
    "\n",
    "rules_list = ['max_approval','borda', 'plurality', 'rav','max_score']#, 'stv']\n",
    "\n",
    "agreements = agreements_rd(n_iter, n_voters, n_cands, n_issues, voters_p, cands_p, rules_list)\n",
    "print(agreements)"
   ]
  },
  {
   "cell_type": "code",
   "execution_count": null,
   "id": "6cb841ad",
   "metadata": {},
   "outputs": [],
   "source": []
  }
 ],
 "metadata": {
  "kernelspec": {
   "display_name": "Python 3 (ipykernel)",
   "language": "python",
   "name": "python3"
  }
 },
 "nbformat": 4,
 "nbformat_minor": 5
}
