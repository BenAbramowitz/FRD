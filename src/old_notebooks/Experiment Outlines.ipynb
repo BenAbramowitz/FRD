{
 "cells": [
  {
   "cell_type": "code",
   "execution_count": null,
   "id": "68952bac",
   "metadata": {},
   "outputs": [],
   "source": [
    "import numpy as np"
   ]
  },
  {
   "cell_type": "markdown",
   "id": "fa127759",
   "metadata": {},
   "source": [
    "What is the full list of variables needed to run a single experiment?\n",
    "\n",
    "num voters\n",
    "num cands\n",
    "num issues\n",
    "voters_p\n",
    "cands_p\n",
    "\n",
    "num reps\n",
    "how election prefs over cands are induced by distances\n",
    "election rule (does not uniquely imply election profile type if multiple derivation types!!)\n",
    "\n",
    "list default weighting\n",
    "list delegation style\n",
    "list issue voting rule for reps\n",
    "\n",
    "num iter"
   ]
  },
  {
   "cell_type": "markdown",
   "id": "6358f359",
   "metadata": {},
   "source": [
    "What types of experiments are you going to run?\n",
    "\n",
    "Compare n_issues (RD only)\n",
    "\n",
    "Compare n_voters (RD only)\n",
    "\n",
    "Compare n_cands (RD only)\n",
    "\n",
    "Compare (voters_p, cands_p) pairs ???\n",
    "\n",
    "--------\n",
    "Compare n_reps\n",
    "\n",
    "Compare how election profile is derived from distances (i.e. threshold approval vs. k-approval)\n",
    "\n",
    "Compare election rules\n",
    "\n",
    "--------\n",
    "Compare default weightings\n",
    "\n",
    "Compare delegation behaviors/styles\n",
    "\n",
    "Compare issue voting rules for reps"
   ]
  },
  {
   "cell_type": "code",
   "execution_count": null,
   "id": "682ee048",
   "metadata": {},
   "outputs": [],
   "source": [
    "def vary_n_issues(n_issues_list, **kwargs)"
   ]
  },
  {
   "cell_type": "code",
   "execution_count": null,
   "id": "b0d22192",
   "metadata": {},
   "outputs": [],
   "source": [
    "def setup_profiles(n_voters, n_cands, n_reps, n_issues, seed=None):\n",
    "    if seed is not None:\n",
    "        np.random.seed(seed)\n",
    "    #Create voter profile\n",
    "    #Create cands profile\n",
    "    #Compute induced distances\n",
    "    #Compute voter majority outcomes\n",
    "    #Return dict with profiles, distances, and voter majority outcomes"
   ]
  },
  {
   "cell_type": "code",
   "execution_count": null,
   "id": "b7427b69",
   "metadata": {},
   "outputs": [],
   "source": [
    "def derive_election_profiles(voter_cand_distances, profile_types=['threshold_approvals','orders','ordermaps','scores'], seed=None):\n",
    "    pass"
   ]
  },
  {
   "cell_type": "code",
   "execution_count": null,
   "id": "45258de9",
   "metadata": {},
   "outputs": [],
   "source": [
    "def get_rd_agreement(election_profile, election_rule, cands, profile, voter_majority_outcomes)"
   ]
  },
  {
   "cell_type": "code",
   "execution_count": null,
   "id": "6b88f68a",
   "metadata": {},
   "outputs": [],
   "source": []
  },
  {
   "cell_type": "code",
   "execution_count": null,
   "id": "1c12a4b2",
   "metadata": {},
   "outputs": [],
   "source": []
  },
  {
   "cell_type": "markdown",
   "id": "f6be4ae0",
   "metadata": {},
   "source": [
    "# Generic Single Experiment"
   ]
  },
  {
   "cell_type": "markdown",
   "id": "c6328a3c",
   "metadata": {},
   "source": [
    "FIXED: All variables\n",
    "VARY: None\n",
    "\n",
    "for iter in range(n_iter):\n",
    "    ---Setup Profiles---\n",
    "    set random seed based on iter\n",
    "    create voter and cand profiles\n",
    "    compute distances between voters and cands\n",
    "    compute voter majority outcomes with random tie breaking\n",
    "    --Compute Election preferences---\n",
    "    based on distances, compute election preferences\n",
    "    elect winning reps from cands\n",
    "    ---Weight reps and get outcomes---\n",
    "    if delegation is allowed (FRD):\n",
    "        for each issue:\n",
    "            apply default weighting to cands\n",
    "            update given weights based on delegation\n",
    "            aggregate given weights to assign weights to reps\n",
    "            run a weighted majority vote for that issue\n",
    "    else (RD):\n",
    "        apply default weighting\n",
    "        run a weighted majority vote for all issues\n",
    "    ---Get agreement---\n",
    "        Compute agreement between rep outcomes and voter majority outcomes\n",
    "        Add agreement to list of agreements\n",
    "\n",
    "Compute mean agreements\n",
    "Compute variance of agreements\n",
    "Compute skewness of agreements\n",
    "Compute kurtosis of agreements\n",
    "    \n",
    "    \n",
    "    \n",
    "\n"
   ]
  },
  {
   "cell_type": "markdown",
   "id": "1ef6e17a",
   "metadata": {},
   "source": [
    "# Generic Experiment"
   ]
  },
  {
   "cell_type": "markdown",
   "id": "e8d872ab",
   "metadata": {},
   "source": [
    "FIXED: n_iter, how each election_profile type is induced from distances (e.g. threshold approval, not k approval)\n",
    "\n",
    "VARY: any other variables, but varying num voters, num cands, and num issues are only ones that require new setup for each one\n",
    "\n",
    "-----read in experiment params from file----\n",
    "read in param values from file, each variable should be a list, even if its a singleton list\n",
    "\n",
    "for iter in range(n_iter): #parallelize here\n",
    "    ------setup_profiles------\n",
    "    create voter issues profile\n",
    "    create cands issues profile\n",
    "    compute voter majority outcomes\n",
    "    computer distances between voters and cands\n",
    "    ------derive_election_profiles-----\n",
    "    for rule in list of election_rules:\n",
    "        make sure the election_profile type that it needs is derived from distances\n",
    "    ------run elections------\n",
    "    for each election_rule:\n",
    "        \n",
    "        \n",
    "    "
   ]
  },
  {
   "cell_type": "markdown",
   "id": "d0593155",
   "metadata": {},
   "source": [
    "# Generic RD Experiment"
   ]
  },
  {
   "cell_type": "markdown",
   "id": "f6b1c4e6",
   "metadata": {},
   "source": [
    "FIXED: num voters, num cands, num reps, num issues, \n",
    "        num iter, issue voting: majority voting\n",
    "VARY: election_profile_types, election_rules\n",
    "\n",
    "for iter in range(n_iter) #parallelize here\n",
    "    Set random seed to be the iteration\n",
    "    create voter issues profile\n",
    "    compute voter majority outcomes\n",
    "    create cand issues profile\n",
    "    compute distances between voters and cands\n",
    "    ------------------------------------------\n",
    "    read in tuples of (election_profile_type, election_rule) from text file:\n",
    "    for election_profile_type in the list of types:\n",
    "        compute the election profiles of that type, induced by distances\n",
    "        for each (election_profile_type, election_rule) pair with that type:\n",
    "            elect reps\n",
    "            compute outcomes from majority vote of the reps\n",
    "            compute agreement with voter majority\n",
    "            add agreement to list of agreements (dict with (election_profile_type, election rule) as keys)\n",
    "    ------------------------------------------\n",
    "\n",
    "        \n",
    "for (election_profile_type, election_rule) pair in keys of agreements dict\n",
    "    compute mean agreement\n",
    "    compute variances of the agreement\n",
    "    write dataframe of mean and variance vals to file (named with param vals)\n",
    "    write dataframe to file with full list of agreements for each pair"
   ]
  },
  {
   "cell_type": "code",
   "execution_count": null,
   "id": "8b4f252b",
   "metadata": {},
   "outputs": [],
   "source": []
  },
  {
   "cell_type": "markdown",
   "id": "0e0d84ee",
   "metadata": {},
   "source": [
    "Read in from txt file a bunch of (election_profile_type, election_rule) tuples specifically for RD (no delegation, majority voting). "
   ]
  },
  {
   "cell_type": "markdown",
   "id": "4e4b4201",
   "metadata": {},
   "source": [
    "# Experiment 1: Comparing Approval Thresholds with RD"
   ]
  },
  {
   "cell_type": "markdown",
   "id": "d237ee3c",
   "metadata": {},
   "source": [
    "FIXED: num voters, num cands, num reps, num issues, num iter, election: max approvals, issue voting: majority voting\n",
    "\n",
    "for iter in range(n_iter)\n",
    "    Set random seed to be the iteration\n",
    "    create voter issues profile\n",
    "    compute voter majority outcomes\n",
    "    create cand issues profile\n",
    "    compute distances between voters and cands\n",
    "    ---- Stuff above this line is the same for every experiment---\n",
    "    for threshold in list of thresholds\n",
    "        compute approvals of voters based on whether distances is (strictly) below the threshold\n",
    "        elect reps using approval voting\n",
    "        compute outcomes from majority vote of the reps\n",
    "        compute agreement with voter majority\n",
    "        add agreement to list of agreements for this threshold (dict with (threshold val, election rule) as keys)\n",
    "        \n",
    "for threshold in list of thresholds\n",
    "    compute mean agreement\n",
    "    compute variances of the agreement\n",
    "    write dataframe of mean and variance vals to file\n",
    "    write dataframe to file with full list of agreements for each threshold\n",
    "Plot"
   ]
  },
  {
   "cell_type": "code",
   "execution_count": null,
   "id": "2087dbf8",
   "metadata": {},
   "outputs": [],
   "source": []
  },
  {
   "cell_type": "markdown",
   "id": "c288543c",
   "metadata": {},
   "source": [
    "# Experiment 2: Comparing k Approval k-vals with RD"
   ]
  },
  {
   "cell_type": "markdown",
   "id": "3b857c14",
   "metadata": {},
   "source": [
    "FIXED: num voters, num cands, num reps, num issues, num iter, election: max approvals, issue voting: majority voting\n",
    "\n",
    "\n",
    "for iter in range(n_iter)\n",
    "    Set random seed to be the iteration\n",
    "    create voter issues profile\n",
    "    create cand issues profile\n",
    "    compute voter majority outcomes\n",
    "    compute distances between voters and cands\n",
    "    ---- Stuff above this line is the same for every experiment---\n",
    "    for k in list of k_vals\n",
    "        compute approvals of voters using k smallest distances (breaking ties randomly)\n",
    "        elect reps using approval voting\n",
    "        compute outcomes from majority vote of the reps\n",
    "        compute agreement with voter majority\n",
    "        add agreement to list of agreements for this threshold   \n",
    "        \n",
    " \n",
    "for k in list of k_vals\n",
    "    compute mean agreement\n",
    "    compute variance of the agreement\n",
    "Plot"
   ]
  },
  {
   "cell_type": "code",
   "execution_count": null,
   "id": "1b4d0827",
   "metadata": {},
   "outputs": [],
   "source": []
  },
  {
   "cell_type": "code",
   "execution_count": null,
   "id": "104b54ce",
   "metadata": {},
   "outputs": [],
   "source": []
  },
  {
   "cell_type": "code",
   "execution_count": null,
   "id": "fcc3320f",
   "metadata": {},
   "outputs": [],
   "source": []
  },
  {
   "cell_type": "code",
   "execution_count": null,
   "id": "90719c1c",
   "metadata": {},
   "outputs": [],
   "source": []
  }
 ],
 "metadata": {
  "kernelspec": {
   "display_name": "Python 3 (ipykernel)",
   "language": "python",
   "name": "python3"
  }
 },
 "nbformat": 4,
 "nbformat_minor": 5
}
