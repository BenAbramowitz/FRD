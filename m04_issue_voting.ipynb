{
 "cells": [
  {
   "cell_type": "code",
   "execution_count": null,
   "id": "74adf4aa",
   "metadata": {},
   "outputs": [],
   "source": [
    "import numpy as np"
   ]
  },
  {
   "cell_type": "code",
   "execution_count": null,
   "id": "73a36fbc",
   "metadata": {},
   "outputs": [],
   "source": [
    "def weighted_majority(issues_profile, weights):\n",
    "    n_issues = issues_profile.shape[1]\n",
    "#     print(f'n_issues: {n_issues}')\n",
    "#     print(f'issues_profile: {issues_profile}')\n",
    "#     print(f'weights: {weights}')\n",
    "#     print(f'n_issues: {n_issues}')\n",
    "    weighted_profile = (issues_profile.T * weights).T\n",
    "#     print(f'weighted_profile: {weighted_profile}')\n",
    "    vote_sums = np.sum(weighted_profile, axis=0)\n",
    "#     print(f'vote_sums: {vote_sums}')\n",
    "    weight_sum = np.sum(weights, axis=0, dtype=float)\n",
    "#     print(f'weight_sum: {weight_sum}')\n",
    "    outcomes = [1 if vote_sums[i] > weight_sum/2.0 \n",
    "                else 0 if vote_sums[i] < weight_sum/2.0 \n",
    "                else np.random.binomial(1, 0.5) for i in range(n_issues)]\n",
    "    return np.array(outcomes)"
   ]
  },
  {
   "cell_type": "code",
   "execution_count": null,
   "id": "9627fcf0",
   "metadata": {},
   "outputs": [],
   "source": [
    "def majority(issues_profile):\n",
    "    n_agents, n_issues = issues_profile.shape[0], issues_profile.shape[1]\n",
    "    vote_sums = np.sum(issues_profile, axis=0)\n",
    "    outcomes = [1 if vote_sums[i] > n_agents/2.0\n",
    "                else 0 if vote_sums[i] < n_agents/2.0\n",
    "                else np.random.binomial(1, 0.5) for i in range(n_issues)]\n",
    "    return np.array(outcomes)"
   ]
  },
  {
   "cell_type": "code",
   "execution_count": null,
   "id": "9484b77e",
   "metadata": {},
   "outputs": [
    {
     "data": {
      "text/plain": [
       "array([1, 1, 0])"
      ]
     },
     "execution_count": null,
     "metadata": {},
     "output_type": "execute_result"
    }
   ],
   "source": [
    "issues_profile = np.array([[1,1,0],[0,1,1]])\n",
    "weights = np.array([3,2])\n",
    "weighted_majority(issues_profile, weights)"
   ]
  },
  {
   "cell_type": "code",
   "execution_count": null,
   "id": "cb37cecf",
   "metadata": {},
   "outputs": [],
   "source": []
  }
 ],
 "metadata": {
  "kernelspec": {
   "display_name": "Python 3 (ipykernel)",
   "language": "python",
   "name": "python3"
  }
 },
 "nbformat": 4,
 "nbformat_minor": 5
}
