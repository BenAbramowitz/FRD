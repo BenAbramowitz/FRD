{
 "cells": [
  {
   "cell_type": "code",
   "execution_count": null,
   "id": "74adf4aa",
   "metadata": {},
   "outputs": [],
   "source": [
    "import numpy as np"
   ]
  },
  {
   "cell_type": "code",
   "execution_count": null,
   "id": "73a36fbc",
   "metadata": {},
   "outputs": [],
   "source": [
    "def weighted_majority(issues_profile, weights):\n",
    "    weighted_profile = issues_profile * weights\n",
    "    vote_sums = np.sum(issues_profile, axis=0)\n",
    "    weight_sums = np.sum(weights, axis=0)\n",
    "    outcomes = [1 if voter_sums[i] > weight_sums[i]/2.0 \n",
    "                else 0 if voter_sums < weight_sums[i]/2.0 \n",
    "                else np.random.binomial(1, 0.5) for i in range(n_issues)]\n",
    "    return outcomes"
   ]
  },
  {
   "cell_type": "code",
   "execution_count": null,
   "id": "9627fcf0",
   "metadata": {},
   "outputs": [],
   "source": [
    "def majority(issues_profile):\n",
    "    n_agents, n_issues = issues_profile.shape[0], issues_profile.shape[1]\n",
    "    vote_sums = np.sum(issues_profile, axis=0)\n",
    "    outcomes = [1 if voter_sums[i] > n_agents/2.0 \n",
    "                else 0 if voter_sums < n_agents/2.0 \n",
    "                else np.random.binomial(1, 0.5) for i in range(n_issues)]\n",
    "    return outcomes"
   ]
  },
  {
   "cell_type": "code",
   "execution_count": null,
   "id": "9484b77e",
   "metadata": {},
   "outputs": [],
   "source": []
  }
 ],
 "metadata": {
  "kernelspec": {
   "display_name": "Python 3 (ipykernel)",
   "language": "python",
   "name": "python3"
  }
 },
 "nbformat": 4,
 "nbformat_minor": 5
}
