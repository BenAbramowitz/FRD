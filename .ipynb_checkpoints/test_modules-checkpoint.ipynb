{
 "cells": [
  {
   "cell_type": "code",
   "execution_count": null,
   "id": "9cfe2279",
   "metadata": {},
   "outputs": [],
   "source": [
    "import unittest\n",
    "import numpy as np\n",
    "import nbimporter\n",
    "import m00_helper as helper\n",
    "import m01_profiles as profiles\n",
    "import m02_elections as elections"
   ]
  },
  {
   "cell_type": "code",
   "execution_count": null,
   "id": "f0245f8f",
   "metadata": {},
   "outputs": [],
   "source": [
    "class Test_m00_helper(unittest.TestCase):\n",
    "    \n",
    "    def test_create_tiebreakers(self):\n",
    "        result = helper.create_tiebreakers(3, seed=1, dtype=int)\n",
    "        np.testing.assert_array_equal(result, np.asarray([0,2,1]))\n",
    "        np.testing.assert_array_equal(result, [0,2,1])\n",
    "        \n",
    "    def test_array1D_to_sorted_indices(self):\n",
    "        result = helper.array1D_to_sorted_indices([0,2,1], seed=1, tiebreakers=None, dtype=int)\n",
    "        np.testing.assert_array_equal(result, [[0, 0, 0],[1, 1, 2],[2, 2, 1]])\n",
    "        \n",
    "        tiebreakers = helper.create_tiebreakers(3, seed=1, dtype=int)\n",
    "        result = helper.array1D_to_sorted_indices([0,2,1], seed=50, tiebreakers=tiebreakers, dtype=float) #seed and dtype should be ignored\n",
    "        np.testing.assert_array_equal(result, [[0, 0, 0],[1, 1, 2],[2, 2, 1]])"
   ]
  },
  {
   "cell_type": "code",
   "execution_count": null,
   "id": "dba894b5",
   "metadata": {},
   "outputs": [],
   "source": []
  },
  {
   "cell_type": "code",
   "execution_count": null,
   "id": "17aca1ec",
   "metadata": {},
   "outputs": [],
   "source": [
    "class Test_m01_profiles(unittest.TestCase):\n",
    "    \n",
    "    def test_issues_profile(self):\n",
    "        pass\n",
    "    \n",
    "    def test_issues_to_distances(self):\n",
    "        pass\n",
    "    \n",
    "    def test_all_issues_profile_derivatives(self):\n",
    "        pass"
   ]
  },
  {
   "cell_type": "code",
   "execution_count": null,
   "id": "0ffd1a17",
   "metadata": {},
   "outputs": [],
   "source": []
  },
  {
   "cell_type": "code",
   "execution_count": null,
   "id": "440c68b7",
   "metadata": {},
   "outputs": [],
   "source": [
    "class Test_m02_elections(unittest.TestCase):\n",
    "    \n",
    "    def test_random_winners(self):\n",
    "        pass\n",
    "    \n",
    "    def test_scoring_rule_ordermap(self):\n",
    "        pass\n",
    "    \n",
    "    def test_plurality(self):\n",
    "        pass\n",
    "\n",
    "    def test_borda(self):\n",
    "        pass\n",
    "    \n",
    "    def test_stv(self):\n",
    "        pass\n",
    "    \n",
    "    def test_max_approval(self):\n",
    "        pass\n",
    "    \n",
    "    def test_repeated_alternative_vote(self):\n",
    "        pass\n",
    "    \n",
    "    def test_max_score(self):\n",
    "        pass"
   ]
  },
  {
   "cell_type": "code",
   "execution_count": null,
   "id": "d45e0312",
   "metadata": {},
   "outputs": [],
   "source": []
  },
  {
   "cell_type": "code",
   "execution_count": null,
   "id": "fbc42b0c",
   "metadata": {},
   "outputs": [
    {
     "name": "stderr",
     "output_type": "stream",
     "text": [
      "test_array1D_to_sorted_indices (__main__.Test_m00) ... ok\n",
      "test_create_tiebreakers (__main__.Test_m00) ... ok\n",
      "\n",
      "----------------------------------------------------------------------\n",
      "Ran 2 tests in 0.005s\n",
      "\n",
      "OK\n",
      "No traceback available to show.\n"
     ]
    }
   ],
   "source": [
    "unittest.main(argv=[''], verbosity=2, exit=False)\n",
    "%tb"
   ]
  },
  {
   "cell_type": "code",
   "execution_count": null,
   "id": "77a9079d",
   "metadata": {},
   "outputs": [],
   "source": []
  },
  {
   "cell_type": "code",
   "execution_count": null,
   "id": "ede0e552",
   "metadata": {},
   "outputs": [],
   "source": []
  }
 ],
 "metadata": {
  "kernelspec": {
   "display_name": "Python 3 (ipykernel)",
   "language": "python",
   "name": "python3"
  }
 },
 "nbformat": 4,
 "nbformat_minor": 5
}
