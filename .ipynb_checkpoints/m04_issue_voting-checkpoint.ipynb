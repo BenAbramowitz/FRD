{
 "cells": [
  {
   "cell_type": "code",
   "execution_count": null,
   "id": "74adf4aa",
   "metadata": {},
   "outputs": [],
   "source": [
    "import numpy as np"
   ]
  },
  {
   "cell_type": "code",
   "execution_count": null,
   "id": "73a36fbc",
   "metadata": {},
   "outputs": [],
   "source": [
    "def weighted_majority(issues_profile, weights):\n",
    "    return "
   ]
  },
  {
   "cell_type": "code",
   "execution_count": null,
   "id": "9627fcf0",
   "metadata": {},
   "outputs": [],
   "source": [
    "def majority(issues_profile):\n",
    "    return "
   ]
  }
 ],
 "metadata": {
  "kernelspec": {
   "display_name": "Python 3 (ipykernel)",
   "language": "python",
   "name": "python3"
  }
 },
 "nbformat": 4,
 "nbformat_minor": 5
}
