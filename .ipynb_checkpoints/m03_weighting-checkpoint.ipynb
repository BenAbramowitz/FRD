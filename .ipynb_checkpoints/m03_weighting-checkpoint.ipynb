{
 "cells": [
  {
   "cell_type": "code",
   "execution_count": null,
   "id": "6e23096b",
   "metadata": {},
   "outputs": [],
   "source": [
    "import numpy as np\n",
    "import nbimporter\n",
    "import m00_helper as helper\n",
    "import m01_profiles as profiles"
   ]
  },
  {
   "cell_type": "markdown",
   "id": "dbecf838",
   "metadata": {},
   "source": [
    "### Weight reps based on default weighting and delegations"
   ]
  },
  {
   "cell_type": "code",
   "execution_count": null,
   "id": "1a201e43",
   "metadata": {},
   "outputs": [],
   "source": [
    "# def weight_reps(delegator_ids, rep_ids, election_profile, \n",
    "#                 default_style:str, delegation_style:str, weighting_function:str):\n",
    "#     '''Sets default weights, updates weights given by voters based on delegation, then aggregates to assign weights to reps'''\n",
    "#     default_given_weights = set_default_given_weights(default_style, election_profile)\n",
    "#     given_weights = delegate(default_given_weights, delegator_ids, rep_ids, delegation_style, election_profile)\n",
    "#     rep_weights = aggregate_weights(given_weights, weighting_function)\n",
    "#     return rep_weights"
   ]
  },
  {
   "cell_type": "code",
   "execution_count": null,
   "id": "07f8ea9d",
   "metadata": {},
   "outputs": [],
   "source": [
    "def set_default_given_weights(default_style:str, election_profile:np.ndarray, cand_ids, rep_ids, normalized:bool = True):\n",
    "    '''returns matrix of size n_voters x n_cands'''\n",
    "    n_voters, n_cands = election_profile.shape[0], election_profile.shape[1]\n",
    "    if len(cand_ids) != n_cands:\n",
    "        raise ValueError('setting default given weights:\\ncand_ids len needs to match the number of columns in the election_profile')\n",
    "    \n",
    "    if default_style == 'uniform':\n",
    "        default_given_weights = np.ones_like(election_profile)\n",
    "    elif default_style == 'borda_ordermap':\n",
    "        default_given_weights = n_cands - election_profile #election profile needs to be an ordermap, not an order!!\n",
    "    elif default_style == 'approvals':\n",
    "        default_given_weights = election_profile\n",
    "    elif default_style == 'scores':\n",
    "        default_given_weights = election_profile\n",
    "    else:\n",
    "        raise ValueError(f'The default weighting style {default_style} is not implemented.')\n",
    "        \n",
    "    #Only have positive weights on elected reps, not all cands, set unelected cands to be given weight 0\n",
    "    for cand in cand_ids:\n",
    "        if cand not in rep_ids:\n",
    "            for voter in range(n_voters):\n",
    "                default_given_weights[voter,cand] = 0\n",
    "\n",
    "    if normalized == True:\n",
    "        #normalize so weights given by each voter sum to one\n",
    "        return helper.normalize_rows_2D(default_given_weights)\n",
    "    else:\n",
    "        return default_given_weights"
   ]
  },
  {
   "cell_type": "code",
   "execution_count": null,
   "id": "24e100f7",
   "metadata": {},
   "outputs": [],
   "source": [
    "def best_k_delegation(default_given_weights, k, delegator_ids, rep_ids, voter_cand_distances, normalized=True):\n",
    "    n_reps = len(rep_ids)\n",
    "    given_weights = default_given_weights\n",
    "    for voter in delegator_ids:\n",
    "        given_weights[voter] = np.zeros(n_reps)\n",
    "        voter_distances = voter_cand_distances[voter]\n",
    "        order = profiles.distances_to_orders_one_voter(voter_distances) #includes random tie breaking\n",
    "        delegation_count = 0\n",
    "        \n",
    "        for rep in order:\n",
    "            if rep in rep_ids:\n",
    "                given_weights[voter][rep] = 1\n",
    "                delegation_count += 1\n",
    "            if delegation_count >= k:\n",
    "                break\n",
    "            \n",
    "    if normalized == True:\n",
    "        #normalize so weights given by each voter sum to one\n",
    "        given_weights = helper.normalize_rows_2D(given_weights)\n",
    "        \n",
    "    return given_weights\n",
    "    "
   ]
  },
  {
   "cell_type": "code",
   "execution_count": null,
   "id": "1e0c11ba",
   "metadata": {},
   "outputs": [
    {
     "data": {
      "text/plain": [
       "array([[0.        , 1.        , 0.        ],\n",
       "       [0.33333333, 0.33333333, 0.33333333]])"
      ]
     },
     "execution_count": null,
     "metadata": {},
     "output_type": "execute_result"
    }
   ],
   "source": [
    "def approval_delegation(default_given_weights, delegator_ids, rep_ids, approval_profile, normalized=True):\n",
    "    #for all delegating voters, replace their given weights with their approvals from the election, among the elected reps\n",
    "    n_cands = approval_profile.shape[1]\n",
    "    rep_indicator = [1 if rep in rep_ids else 0 for rep in range(n_cands)]\n",
    "    given_weights = default_given_weights\n",
    "    \n",
    "    for voter in delegator_ids:\n",
    "        given_weights[voter] = approval_profile[voter] * rep_indicator\n",
    "        \n",
    "    if normalized == True:\n",
    "        #normalize so weights given by each voter sum to one\n",
    "        given_weights = helper.normalize_rows_2D(given_weights)\n",
    "    \n",
    "    return given_weights\n",
    "\n"
   ]
  },
  {
   "cell_type": "code",
   "execution_count": null,
   "id": "0c94d08d",
   "metadata": {},
   "outputs": [],
   "source": [
    "def decisive_delegation(default_given_weights, delegator_ids, rep_ids, \n",
    "                        voter_issues_profile, cand_issues_profile, issue):\n",
    "    n_voters, n_cands, n_reps = default_given_weights.shape[0], default_given_weights.shape[1], len(rep_ids)\n",
    "    given_weights = default_given_weights\n",
    "    for v in delegator_ids:\n",
    "        given_weights[v] = np.zeros(n_cands)\n",
    "        found = False\n",
    "        for rep in rep_ids:\n",
    "            if found == True:\n",
    "                continue\n",
    "            if voter_issues_profile[v][issue] == cand_issues_profile[rep][issue]:\n",
    "                given_weights[v][rep] = 1\n",
    "                found = True\n",
    "        if found == False: #default delegation behavior if none of the reps agree with the voter on that issue\n",
    "            for rep in rep_ids:\n",
    "                given_weights[v][rep] = 1.0 / n_reps\n",
    "    return given_weights"
   ]
  },
  {
   "cell_type": "code",
   "execution_count": null,
   "id": "53accdf8",
   "metadata": {},
   "outputs": [],
   "source": [
    "def aggregate_weights(given_weights):\n",
    "    return np.sum(given_weights, axis=0)"
   ]
  },
  {
   "cell_type": "markdown",
   "id": "0b3e2bfa",
   "metadata": {},
   "source": [
    "### Determine which voters delegate"
   ]
  },
  {
   "cell_type": "code",
   "execution_count": null,
   "id": "dd27afe8",
   "metadata": {},
   "outputs": [],
   "source": [
    "def choose_delegators(n_voters, n_delegators):\n",
    "    '''randomly select a fixed number of voters as delegators'''\n",
    "    return  np.random.choice(n_voters, n_delegators, replace=False)"
   ]
  },
  {
   "cell_type": "code",
   "execution_count": null,
   "id": "88d73f12",
   "metadata": {},
   "outputs": [],
   "source": [
    "def independent_delegators(delegation_probs):\n",
    "    '''Determines which voters delegate where each voter has their own given probability of delegating\n",
    "    e.g. based on preference intensity\n",
    "    \n",
    "    \n",
    "    RETURNS\n",
    "    -------\n",
    "    Indicator array of elems in {0,1} of length len(delegation_probs)\n",
    "    \n",
    "    \n",
    "    NOTES\n",
    "    ------\n",
    "    To be used for determining which voters delegate when they all decide whether to delegate with some independent probability\n",
    "    \n",
    "    '''\n",
    "    return [np.random.binomial(1, p) for p in delegation_probs]"
   ]
  },
  {
   "cell_type": "markdown",
   "id": "00bfb4d4",
   "metadata": {},
   "source": [
    "# TESTING"
   ]
  },
  {
   "cell_type": "code",
   "execution_count": null,
   "id": "1ba5d64e",
   "metadata": {},
   "outputs": [],
   "source": [
    "approval_delegation(np.array([[1,1,1],[1,1,1]]), [0], [1,2], np.array([[1,1,0],[1,1,1]]))"
   ]
  },
  {
   "cell_type": "code",
   "execution_count": null,
   "id": "f66904ca",
   "metadata": {},
   "outputs": [],
   "source": [
    "independent_delegators([0, 0.5, 0.5])"
   ]
  },
  {
   "cell_type": "code",
   "execution_count": null,
   "id": "383ab815",
   "metadata": {},
   "outputs": [],
   "source": [
    "aggregate_weights([[1,0,0],[0.5,0.5,1]])"
   ]
  }
 ],
 "metadata": {
  "kernelspec": {
   "display_name": "Python 3 (ipykernel)",
   "language": "python",
   "name": "python3"
  }
 },
 "nbformat": 4,
 "nbformat_minor": 5
}
