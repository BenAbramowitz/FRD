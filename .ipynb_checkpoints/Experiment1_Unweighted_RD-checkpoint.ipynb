{
 "cells": [
  {
   "cell_type": "code",
   "execution_count": null,
   "id": "297a74a8",
   "metadata": {},
   "outputs": [],
   "source": []
  },
  {
   "cell_type": "code",
   "execution_count": null,
   "id": "ef6e50f1",
   "metadata": {},
   "outputs": [],
   "source": []
  },
  {
   "cell_type": "code",
   "execution_count": null,
   "id": "605f5376",
   "metadata": {},
   "outputs": [],
   "source": [
    "# Read in parameters of the experiment from a file\n",
    "\n",
    "# For each independent variable of interest (num cands, num voters, num issues) #parallelize here?\n",
    "    # For iter in num iter\n",
    "        # Generate profile for candidates\n",
    "        # For iter in num iter per cands\n",
    "            # Generate profile for voters\n",
    "            # Compute outcomes preferred by the voter majority\n",
    "            # For every rule in the set of rules\n",
    "                # Compute winning candidates under that rule\n",
    "                # Compute outcomes of issues based on reps' votes\n",
    "                # Compute agreement with voter majority\n",
    "    # Save data to csv file\n",
    "\n",
    "# For each independent variable of interest\n",
    "    # Create a plot for the results\n",
    "        # For rule in set of rules\n",
    "            # Get the mean and variance of the agreements for each value of the independent variable\n",
    "            # Add line for this rule to\n",
    "    # Save plot (make sure not to overwrite)\n",
    "\n",
    "# Save all param values of the experiment that was run to a txt file with all experiments run (append, don't overwrite)\n",
    "    "
   ]
  },
  {
   "cell_type": "code",
   "execution_count": null,
   "id": "11f22a1b",
   "metadata": {},
   "outputs": [],
   "source": []
  },
  {
   "cell_type": "code",
   "execution_count": null,
   "id": "a731f1a4",
   "metadata": {},
   "outputs": [],
   "source": []
  },
  {
   "cell_type": "code",
   "execution_count": null,
   "id": "50911248",
   "metadata": {},
   "outputs": [],
   "source": []
  },
  {
   "cell_type": "code",
   "execution_count": null,
   "id": "bcb25e61",
   "metadata": {},
   "outputs": [],
   "source": []
  }
 ],
 "metadata": {
  "kernelspec": {
   "display_name": "Python 3 (ipykernel)",
   "language": "python",
   "name": "python3"
  }
 },
 "nbformat": 4,
 "nbformat_minor": 5
}
